{
 "cells": [
  {
   "cell_type": "code",
   "execution_count": null,
   "id": "c013ebec",
   "metadata": {
    "vscode": {
     "languageId": "plaintext"
    }
   },
   "outputs": [],
   "source": [
    "!brew install libomp\n",
    "!pip install seaborn\n",
    "\n",
    "!pip install kagglehub\n",
    "\n",
    "!pip uninstall -y xgboost\n",
    "!pip install xgboost"
   ]
  },
  {
   "cell_type": "code",
   "execution_count": null,
   "id": "22b650d1",
   "metadata": {
    "vscode": {
     "languageId": "plaintext"
    }
   },
   "outputs": [],
   "source": [
    "import os\n",
    "os.environ['KMP_DUPLICATE_LIB_OK'] = 'True'"
   ]
  },
  {
   "cell_type": "code",
   "execution_count": null,
   "id": "9b32112b",
   "metadata": {
    "vscode": {
     "languageId": "plaintext"
    }
   },
   "outputs": [],
   "source": [
    "import pandas as pd\n",
    "import matplotlib.pyplot as plt\n",
    "import seaborn as sns\n",
    "import numpy as np\n",
    "\n",
    "from category_encoders import BinaryEncoder\n",
    "from sklearn.pipeline import Pipeline\n",
    "from xgboost import XGBClassifier\n",
    "from sklearn.metrics import accuracy_score"
   ]
  },
  {
   "cell_type": "code",
   "execution_count": null,
   "id": "d590f75b",
   "metadata": {
    "vscode": {
     "languageId": "plaintext"
    }
   },
   "outputs": [],
   "source": [
    "# Data import\n",
    "df = pd.read_csv('diabetes_prediction_dataset.csv')\n",
    "df.head()"
   ]
  },
  {
   "cell_type": "code",
   "execution_count": null,
   "id": "2c90218b",
   "metadata": {
    "vscode": {
     "languageId": "plaintext"
    }
   },
   "outputs": [],
   "source": [
    "# Descipción de datos\n",
    "df.describe()"
   ]
  },
  {
   "cell_type": "code",
   "execution_count": null,
   "id": "8113c1b0",
   "metadata": {
    "vscode": {
     "languageId": "plaintext"
    }
   },
   "outputs": [],
   "source": [
    "df.shape"
   ]
  },
  {
   "cell_type": "code",
   "execution_count": null,
   "id": "e3f01376",
   "metadata": {
    "vscode": {
     "languageId": "plaintext"
    }
   },
   "outputs": [],
   "source": [
    "df.info()"
   ]
  },
  {
   "cell_type": "code",
   "execution_count": null,
   "id": "e9914832",
   "metadata": {
    "vscode": {
     "languageId": "plaintext"
    }
   },
   "outputs": [],
   "source": [
    "df['gender'].unique()"
   ]
  },
  {
   "cell_type": "code",
   "execution_count": null,
   "id": "44931130",
   "metadata": {
    "vscode": {
     "languageId": "plaintext"
    }
   },
   "outputs": [],
   "source": [
    "# Count the number of rows where gender is not 'Other'\n",
    "count_without_other = df[df['gender'] != 'Other'].shape[0]\n",
    "print(f\"Number of rows without 'Other' in gender: {count_without_other}\")"
   ]
  },
  {
   "cell_type": "code",
   "execution_count": null,
   "id": "671fa659",
   "metadata": {
    "vscode": {
     "languageId": "plaintext"
    }
   },
   "outputs": [],
   "source": [
    "# Drop rows where the 'gender' column has the value 'Other'\n",
    "df = df[df['gender'] != 'Other']"
   ]
  },
  {
   "cell_type": "code",
   "execution_count": null,
   "id": "21e38616",
   "metadata": {
    "vscode": {
     "languageId": "plaintext"
    }
   },
   "outputs": [],
   "source": [
    "# Convertimos genero Hombre, Mujer, a 1, 0\n",
    "df['gender'] = df['gender'].map({'Male': 1, 'Female': 0})"
   ]
  },
  {
   "cell_type": "code",
   "execution_count": null,
   "id": "adb5cbaa",
   "metadata": {
    "vscode": {
     "languageId": "plaintext"
    }
   },
   "outputs": [],
   "source": [
    "# Validamos si tenemos valore vacíos\n",
    "df.isnull().sum()"
   ]
  },
  {
   "cell_type": "code",
   "execution_count": null,
   "id": "7a5d2d05",
   "metadata": {
    "vscode": {
     "languageId": "plaintext"
    }
   },
   "outputs": [],
   "source": [
    "df.hist(bins=30, figsize=(15, 12))\n",
    "plt.tight_layout()\n",
    "plt.show()"
   ]
  },
  {
   "cell_type": "code",
   "execution_count": null,
   "id": "6899a5c4",
   "metadata": {
    "vscode": {
     "languageId": "plaintext"
    }
   },
   "outputs": [],
   "source": [
    "# Ahora vemos el conteo de nuestra variable objetivo: Diabetes\n",
    "\n",
    "df['diabetes'].value_counts().plot(kind='bar', color='skyblue')\n",
    "plt.title('Distribución de Diabetes')\n",
    "plt.xlabel('Diabetes')\n",
    "plt.ylabel('Frecuencia')\n",
    "plt.show()"
   ]
  },
  {
   "cell_type": "code",
   "execution_count": null,
   "id": "1477a6cb",
   "metadata": {
    "vscode": {
     "languageId": "plaintext"
    }
   },
   "outputs": [],
   "source": [
    "df.duplicated().sum()"
   ]
  },
  {
   "cell_type": "code",
   "execution_count": null,
   "id": "2d741ecc",
   "metadata": {
    "vscode": {
     "languageId": "plaintext"
    }
   },
   "outputs": [],
   "source": [
    "df = df.drop_duplicates()"
   ]
  },
  {
   "cell_type": "code",
   "execution_count": null,
   "id": "07a9bac7",
   "metadata": {
    "vscode": {
     "languageId": "plaintext"
    }
   },
   "outputs": [],
   "source": [
    "df.duplicated().sum()"
   ]
  },
  {
   "cell_type": "code",
   "execution_count": null,
   "id": "1514b988",
   "metadata": {
    "vscode": {
     "languageId": "plaintext"
    }
   },
   "outputs": [],
   "source": [
    "df.shape"
   ]
  },
  {
   "cell_type": "code",
   "execution_count": null,
   "id": "38c4c4a2",
   "metadata": {
    "vscode": {
     "languageId": "plaintext"
    }
   },
   "outputs": [],
   "source": [
    "df.sample(10)"
   ]
  },
  {
   "cell_type": "code",
   "execution_count": null,
   "id": "ca51292f",
   "metadata": {
    "vscode": {
     "languageId": "plaintext"
    }
   },
   "outputs": [],
   "source": [
    "unique_values = df['smoking_history'].unique()"
   ]
  },
  {
   "cell_type": "code",
   "execution_count": null,
   "id": "99bdb496",
   "metadata": {
    "vscode": {
     "languageId": "plaintext"
    }
   },
   "outputs": [],
   "source": [
    "binary_transformer = Pipeline(\n",
    "    steps=[(\"binary_encoder\", BinaryEncoder(cols=['smoking_history']))]\n",
    ")"
   ]
  },
  {
   "cell_type": "code",
   "execution_count": null,
   "id": "fe8f1fa0",
   "metadata": {
    "vscode": {
     "languageId": "plaintext"
    }
   },
   "outputs": [],
   "source": [
    "df_encoded = binary_transformer.fit_transform(df)"
   ]
  },
  {
   "cell_type": "code",
   "execution_count": null,
   "id": "4abbb78d",
   "metadata": {
    "vscode": {
     "languageId": "plaintext"
    }
   },
   "outputs": [],
   "source": [
    "smoking_mapping = {}\n",
    "for i, col in enumerate(encoded_cols):\n",
    "    clean_name = f\"smoking_{unique_values[i].lower().replace(' ', '_')}\"\n",
    "    smoking_mapping[col] = clean_name"
   ]
  },
  {
   "cell_type": "code",
   "execution_count": null,
   "id": "4a351014",
   "metadata": {
    "vscode": {
     "languageId": "plaintext"
    }
   },
   "outputs": [],
   "source": [
    "df_encoded = df_encoded.rename(columns=smoking_mapping)\n",
    "\n",
    "print(\"\\nSample of data with renamed columns:\")\n",
    "df_encoded.sample(5)"
   ]
  },
  {
   "cell_type": "code",
   "execution_count": null,
   "id": "77b725bb",
   "metadata": {
    "vscode": {
     "languageId": "plaintext"
    }
   },
   "outputs": [],
   "source": [
    "def cap_outliers(df_encoded, column):\n",
    "    Q1 = df_encoded[column].quantile(0.25)\n",
    "    Q3 = df_encoded[column].quantile(0.75)\n",
    "    IQR = Q3 - Q1\n",
    "    lower_bound = Q1 - 1.5 * IQR\n",
    "    upper_bound = Q3 + 1.5 * IQR\n",
    "    df_encoded[column] = df_encoded[column].clip(lower_bound, upper_bound)\n",
    "    return df_encoded\n",
    "\n",
    "for col in ['age', 'bmi', 'HbA1c_level', 'blood_glucose_level']:\n",
    "    df_encoded = cap_outliers(df_encoded, col)"
   ]
  },
  {
   "cell_type": "code",
   "execution_count": null,
   "id": "04d1628d",
   "metadata": {
    "vscode": {
     "languageId": "plaintext"
    }
   },
   "outputs": [],
   "source": [
    "scaler = StandardScaler()\n",
    "df_encoded[['age', 'bmi', 'HbA1c_level', 'blood_glucose_level']] = scaler.fit_transform(\n",
    "    df_encoded[['age', 'bmi', 'HbA1c_level', 'blood_glucose_level']]\n",
    ")"
   ]
  },
  {
   "cell_type": "code",
   "execution_count": null,
   "id": "19cecfb2",
   "metadata": {
    "vscode": {
     "languageId": "plaintext"
    }
   },
   "outputs": [],
   "source": [
    "df_encoded.dtypes"
   ]
  },
  {
   "cell_type": "code",
   "execution_count": null,
   "id": "61113778",
   "metadata": {
    "vscode": {
     "languageId": "plaintext"
    }
   },
   "outputs": [],
   "source": [
    "print(\"Generating Pair Plot...\")\n",
    "sns.pairplot(df_encoded[['age', 'bmi', 'HbA1c_level', 'blood_glucose_level', 'diabetes']], \n",
    "             hue='diabetes', diag_kind='kde')\n",
    "plt.suptitle('Pair Plot of Numerical Features by Diabetes', y=1.02)\n",
    "plt.show()"
   ]
  },
  {
   "cell_type": "code",
   "execution_count": null,
   "id": "ebcf4d4a",
   "metadata": {
    "vscode": {
     "languageId": "plaintext"
    }
   },
   "outputs": [],
   "source": [
    "print(\"Generating Box Plots...\")\n",
    "fig, axes = plt.subplots(2, 2, figsize=(12, 8))\n",
    "numerical_cols = ['age', 'bmi', 'HbA1c_level', 'blood_glucose_level']\n",
    "for i, col in enumerate(numerical_cols):\n",
    "    sns.boxplot(x='diabetes', y=col, data=df_encoded, ax=axes[i//2, i%2])\n",
    "    axes[i//2, i%2].set_title(f'{col} vs. Diabetes')\n",
    "plt.tight_layout()\n",
    "plt.show()"
   ]
  },
  {
   "cell_type": "code",
   "execution_count": null,
   "id": "316653ec",
   "metadata": {
    "vscode": {
     "languageId": "plaintext"
    }
   },
   "outputs": [],
   "source": [
    "print(\"Generating Count Plots...\")\n",
    "categorical_cols = ['gender', 'smoking_never', 'smoking_no_info', 'smoking_current', 'hypertension', 'heart_disease']\n",
    "\n",
    "# First figure with first 4 plots\n",
    "fig1, axes1 = plt.subplots(2, 2, figsize=(12, 8))\n",
    "axes1 = axes1.flatten()  # Flatten for easier indexing\n",
    "\n",
    "for i in range(min(4, len(categorical_cols))):\n",
    "    sns.countplot(x=categorical_cols[i], hue='diabetes', data=df_encoded, ax=axes1[i])\n",
    "    axes1[i].set_title(f'{categorical_cols[i]} vs. Diabetes')\n",
    "\n",
    "plt.tight_layout()\n",
    "plt.show()\n",
    "\n",
    "# Second figure with remaining plots\n",
    "if len(categorical_cols) > 4:\n",
    "    fig2, axes2 = plt.subplots(1, len(categorical_cols)-4, figsize=(12, 4))\n",
    "    if len(categorical_cols) == 5:  # Handle case of just one subplot\n",
    "        axes2 = [axes2]\n",
    "        \n",
    "    for i in range(4, len(categorical_cols)):\n",
    "        sns.countplot(x=categorical_cols[i], hue='diabetes', data=df_encoded, ax=axes2[i-4])\n",
    "        axes2[i-4].set_title(f'{categorical_cols[i]} vs. Diabetes')\n",
    "    \n",
    "    plt.tight_layout()\n",
    "    plt.show()"
   ]
  },
  {
   "cell_type": "code",
   "execution_count": null,
   "id": "07b98953",
   "metadata": {
    "vscode": {
     "languageId": "plaintext"
    }
   },
   "outputs": [],
   "source": [
    "print(\"Diabetes Class Distribution:\")\n",
    "print(df_encoded['diabetes'].value_counts())"
   ]
  },
  {
   "cell_type": "code",
   "execution_count": null,
   "id": "1305c071",
   "metadata": {
    "vscode": {
     "languageId": "plaintext"
    }
   },
   "outputs": [],
   "source": [
    "# Ahora vemos la correlación entre los datos\n",
    "\n",
    "num_df = df_encoded.select_dtypes(exclude='object')\n",
    "fig, ax = plt.subplots()\n",
    "sns.heatmap(num_df.corr(), annot=True)\n",
    "plt.title('Correlación numérica de características')\n",
    "plt.show()"
   ]
  },
  {
   "cell_type": "code",
   "execution_count": null,
   "id": "4a4ade99",
   "metadata": {
    "vscode": {
     "languageId": "plaintext"
    }
   },
   "outputs": [],
   "source": [
    "X = df_encoded.drop('diabetes', axis=1)\n",
    "y = df_encoded['diabetes']\n",
    "X_train, X_test, y_train, y_test = train_test_split(X, y, test_size=0.2, random_state=42)"
   ]
  },
  {
   "cell_type": "code",
   "execution_count": null,
   "id": "b3097caa",
   "metadata": {
    "vscode": {
     "languageId": "plaintext"
    }
   },
   "outputs": [],
   "source": [
    "models = {\n",
    "    'Logistic Regression': {\n",
    "        'model': LogisticRegression(),\n",
    "        'params': {\n",
    "            'C': [0.1, 1, 10],\n",
    "            'solver': ['liblinear', 'lbfgs']\n",
    "        }\n",
    "    },\n",
    "    'Random Forest': {\n",
    "        'model': RandomForestClassifier(random_state=42),\n",
    "        'params': {\n",
    "            'n_estimators': [50, 100],\n",
    "            'max_depth': [None, 10, 20]\n",
    "        }\n",
    "    },\n",
    "    'XGBoost': {\n",
    "        'model': XGBClassifier(random_state=42, eval_metric='logloss'),\n",
    "        'params': {\n",
    "            'n_estimators': [50, 100],\n",
    "            'max_depth': [3, 6],\n",
    "            'learning_rate': [0.01, 0.1]\n",
    "        }\n",
    "    }\n",
    "}"
   ]
  },
  {
   "cell_type": "code",
   "execution_count": null,
   "id": "9a183474",
   "metadata": {
    "vscode": {
     "languageId": "plaintext"
    }
   },
   "outputs": [],
   "source": [
    "results = []\n",
    "hyperparameters = {}\n",
    "\n",
    "for name, config in models.items():\n",
    "    print(f\"\\nTraining {name}...\")\n",
    "    grid = GridSearchCV(config['model'], config['params'], cv=5, scoring='accuracy', n_jobs=-1)\n",
    "    grid.fit(X_train, y_train)\n",
    "    best_model = grid.best_estimator_\n",
    "    y_pred = best_model.predict(X_test)\n",
    "    accuracy = accuracy_score(y_test, y_pred)\n",
    "    \n",
    "    results.append({'Model': name, 'Accuracy': accuracy})\n",
    "    hyperparameters[name] = grid.best_params_\n",
    "    \n",
    "    print(f\"Best Parameters for {name}: {grid.best_params_}\")\n",
    "    print(f\"Test Accuracy: {accuracy:.3f}\")"
   ]
  },
  {
   "cell_type": "code",
   "execution_count": null,
   "id": "c1cd4418",
   "metadata": {
    "vscode": {
     "languageId": "plaintext"
    }
   },
   "outputs": [],
   "source": [
    "# prompt: number of values equals to 1 in the column diabetes\n",
    "count_diabetes_1 = df[df['diabetes'] == 1]['diabetes'].count()\n",
    "print(f\"Number of values equal to 1 in the 'diabetes' column: {count_diabetes_1}\")\n"
   ]
  },
  {
   "cell_type": "code",
   "execution_count": null,
   "id": "70ce2c4a",
   "metadata": {
    "vscode": {
     "languageId": "plaintext"
    }
   },
   "outputs": [],
   "source": [
    "# Relacion entre variable dependiente y la glucosa en sangre como independiente\n",
    "\n",
    "plt.figure(figsize=(8, 5))\n",
    "sns.kdeplot(df[df['diabetes'] == 0]['blood_glucose_level'], label='No Diabetes', fill=True)\n",
    "sns.kdeplot(df[df['diabetes'] == 1]['blood_glucose_level'], label='Diabetes', fill=True)\n",
    "plt.title('Distribución de Glucosa en Sangre')\n",
    "plt.xlabel('Nivel de Glucosa')\n",
    "plt.ylabel('Densidad')\n",
    "plt.legend()\n",
    "plt.show()"
   ]
  },
  {
   "cell_type": "code",
   "execution_count": null,
   "id": "6a317fe2",
   "metadata": {
    "vscode": {
     "languageId": "plaintext"
    }
   },
   "outputs": [],
   "source": [
    "# Relacion entre variable dependiente e índice de masa corporal como independiente\n",
    "\n",
    "plt.figure(figsize=(8, 5))\n",
    "sns.kdeplot(df[df['diabetes'] == 0]['bmi'], label='No Diabetes', fill=True)\n",
    "sns.kdeplot(df[df['diabetes'] == 1]['bmi'], label='Diabetes', fill=True)\n",
    "plt.title('Distribución de IMC según Diagnóstico de Diabetes')\n",
    "plt.xlabel('IMC')\n",
    "plt.ylabel('Densidad')\n",
    "plt.legend()\n",
    "plt.show()"
   ]
  },
  {
   "cell_type": "code",
   "execution_count": null,
   "id": "474a5a29",
   "metadata": {
    "vscode": {
     "languageId": "plaintext"
    }
   },
   "outputs": [],
   "source": [
    "fig, axs = plt.subplots(2, 1, figsize=(10, 10))  # 2 filas, 1 columna\n",
    "\n",
    "# --- Gráfico 1: Distribución de Glucosa en Sangre ---\n",
    "sns.kdeplot(\n",
    "    data=df[df['diabetes'] == 0]['blood_glucose_level'],\n",
    "    label='No Diabetes',\n",
    "    fill=True,\n",
    "    ax=axs[0]\n",
    ")\n",
    "sns.kdeplot(\n",
    "    data=df[df['diabetes'] == 1]['blood_glucose_level'],\n",
    "    label='Diabetes',\n",
    "    fill=True,\n",
    "    ax=axs[0]\n",
    ")\n",
    "axs[0].set_title('Distribución de Glucosa en Sangre')\n",
    "axs[0].set_xlabel('Nivel de Glucosa')\n",
    "axs[0].set_ylabel('Densidad')\n",
    "axs[0].legend()\n",
    "\n",
    "# --- Gráfico 2: Distribución de IMC ---\n",
    "sns.kdeplot(\n",
    "    data=df[df['diabetes'] == 0]['bmi'],\n",
    "    label='No Diabetes',\n",
    "    fill=True,\n",
    "    ax=axs[1]\n",
    ")\n",
    "sns.kdeplot(\n",
    "    data=df[df['diabetes'] == 1]['bmi'],\n",
    "    label='Diabetes',\n",
    "    fill=True,\n",
    "    ax=axs[1]\n",
    ")\n",
    "axs[1].set_title('Distribución de IMC según Diagnóstico de Diabetes')\n",
    "axs[1].set_xlabel('IMC')\n",
    "axs[1].set_ylabel('Densidad')\n",
    "axs[1].legend()\n",
    "\n",
    "# Ajustar espacios\n",
    "plt.tight_layout()\n",
    "plt.show()"
   ]
  }
 ],
 "metadata": {
  "language_info": {
   "name": "python"
  }
 },
 "nbformat": 4,
 "nbformat_minor": 5
}
