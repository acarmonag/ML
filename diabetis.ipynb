{
 "cells": [
  {
   "cell_type": "code",
   "execution_count": 1,
   "id": "c013ebec",
   "metadata": {},
   "outputs": [
    {
     "name": "stderr",
     "output_type": "stream",
     "text": [
      "\"brew\" no se reconoce como un comando interno o externo,\n",
      "programa o archivo por lotes ejecutable.\n"
     ]
    },
    {
     "name": "stdout",
     "output_type": "stream",
     "text": [
      "Collecting seaborn\n",
      "  Downloading seaborn-0.13.2-py3-none-any.whl (294 kB)\n",
      "     -------------------------------------- 294.9/294.9 kB 1.3 MB/s eta 0:00:00\n",
      "Collecting numpy!=1.24.0,>=1.20\n",
      "  Downloading numpy-2.2.5-cp311-cp311-win_amd64.whl (12.9 MB)\n",
      "     ---------------------------------------- 12.9/12.9 MB 2.3 MB/s eta 0:00:00\n",
      "Collecting pandas>=1.2\n",
      "  Downloading pandas-2.2.3-cp311-cp311-win_amd64.whl (11.6 MB)\n",
      "     ---------------------------------------- 11.6/11.6 MB 2.6 MB/s eta 0:00:00\n",
      "Collecting matplotlib!=3.6.1,>=3.4\n",
      "  Downloading matplotlib-3.10.1-cp311-cp311-win_amd64.whl (8.1 MB)\n",
      "     ---------------------------------------- 8.1/8.1 MB 2.6 MB/s eta 0:00:00\n",
      "Collecting contourpy>=1.0.1\n",
      "  Downloading contourpy-1.3.2-cp311-cp311-win_amd64.whl (222 kB)\n",
      "     -------------------------------------- 222.0/222.0 kB 1.9 MB/s eta 0:00:00\n",
      "Collecting cycler>=0.10\n",
      "  Downloading cycler-0.12.1-py3-none-any.whl (8.3 kB)\n",
      "Collecting fonttools>=4.22.0\n",
      "  Downloading fonttools-4.57.0-cp311-cp311-win_amd64.whl (2.2 MB)\n",
      "     ---------------------------------------- 2.2/2.2 MB 2.2 MB/s eta 0:00:00\n",
      "Collecting kiwisolver>=1.3.1\n",
      "  Downloading kiwisolver-1.4.8-cp311-cp311-win_amd64.whl (71 kB)\n",
      "     ---------------------------------------- 72.0/72.0 kB 2.0 MB/s eta 0:00:00\n",
      "Requirement already satisfied: packaging>=20.0 in c:\\users\\jchurtador\\appdata\\local\\programs\\python\\python311\\lib\\site-packages (from matplotlib!=3.6.1,>=3.4->seaborn) (24.2)\n",
      "Collecting pillow>=8\n",
      "  Downloading pillow-11.2.1-cp311-cp311-win_amd64.whl (2.7 MB)\n",
      "     ---------------------------------------- 2.7/2.7 MB 2.3 MB/s eta 0:00:00\n",
      "Collecting pyparsing>=2.3.1\n",
      "  Downloading pyparsing-3.2.3-py3-none-any.whl (111 kB)\n",
      "     -------------------------------------- 111.1/111.1 kB 2.1 MB/s eta 0:00:00\n",
      "Requirement already satisfied: python-dateutil>=2.7 in c:\\users\\jchurtador\\appdata\\local\\programs\\python\\python311\\lib\\site-packages (from matplotlib!=3.6.1,>=3.4->seaborn) (2.9.0.post0)\n",
      "Collecting pytz>=2020.1\n",
      "  Downloading pytz-2025.2-py2.py3-none-any.whl (509 kB)\n",
      "     -------------------------------------- 509.2/509.2 kB 2.3 MB/s eta 0:00:00\n",
      "Collecting tzdata>=2022.7\n",
      "  Downloading tzdata-2025.2-py2.py3-none-any.whl (347 kB)\n",
      "     -------------------------------------- 347.8/347.8 kB 2.4 MB/s eta 0:00:00\n",
      "Requirement already satisfied: six>=1.5 in c:\\users\\jchurtador\\appdata\\local\\programs\\python\\python311\\lib\\site-packages (from python-dateutil>=2.7->matplotlib!=3.6.1,>=3.4->seaborn) (1.17.0)\n",
      "Installing collected packages: pytz, tzdata, pyparsing, pillow, numpy, kiwisolver, fonttools, cycler, pandas, contourpy, matplotlib, seaborn\n",
      "Successfully installed contourpy-1.3.2 cycler-0.12.1 fonttools-4.57.0 kiwisolver-1.4.8 matplotlib-3.10.1 numpy-2.2.5 pandas-2.2.3 pillow-11.2.1 pyparsing-3.2.3 pytz-2025.2 seaborn-0.13.2 tzdata-2025.2\n"
     ]
    },
    {
     "name": "stderr",
     "output_type": "stream",
     "text": [
      "\n",
      "[notice] A new release of pip available: 22.3 -> 25.1\n",
      "[notice] To update, run: python.exe -m pip install --upgrade pip\n"
     ]
    },
    {
     "name": "stdout",
     "output_type": "stream",
     "text": [
      "Collecting kagglehub\n",
      "  Downloading kagglehub-0.3.12-py3-none-any.whl (67 kB)\n",
      "     -------------------------------------- 68.0/68.0 kB 184.5 kB/s eta 0:00:00\n",
      "Requirement already satisfied: packaging in c:\\users\\jchurtador\\appdata\\local\\programs\\python\\python311\\lib\\site-packages (from kagglehub) (24.2)\n",
      "Requirement already satisfied: pyyaml in c:\\users\\jchurtador\\appdata\\local\\programs\\python\\python311\\lib\\site-packages (from kagglehub) (6.0.2)\n",
      "Requirement already satisfied: requests in c:\\users\\jchurtador\\appdata\\local\\programs\\python\\python311\\lib\\site-packages (from kagglehub) (2.32.3)\n",
      "Collecting tqdm\n",
      "  Downloading tqdm-4.67.1-py3-none-any.whl (78 kB)\n",
      "     -------------------------------------- 78.5/78.5 kB 546.4 kB/s eta 0:00:00\n",
      "Requirement already satisfied: charset-normalizer<4,>=2 in c:\\users\\jchurtador\\appdata\\local\\programs\\python\\python311\\lib\\site-packages (from requests->kagglehub) (3.4.1)\n",
      "Requirement already satisfied: idna<4,>=2.5 in c:\\users\\jchurtador\\appdata\\local\\programs\\python\\python311\\lib\\site-packages (from requests->kagglehub) (3.10)\n",
      "Requirement already satisfied: urllib3<3,>=1.21.1 in c:\\users\\jchurtador\\appdata\\local\\programs\\python\\python311\\lib\\site-packages (from requests->kagglehub) (2.3.0)\n",
      "Requirement already satisfied: certifi>=2017.4.17 in c:\\users\\jchurtador\\appdata\\local\\programs\\python\\python311\\lib\\site-packages (from requests->kagglehub) (2025.1.31)\n",
      "Requirement already satisfied: colorama in c:\\users\\jchurtador\\appdata\\local\\programs\\python\\python311\\lib\\site-packages (from tqdm->kagglehub) (0.4.6)\n",
      "Installing collected packages: tqdm, kagglehub\n",
      "Successfully installed kagglehub-0.3.12 tqdm-4.67.1\n"
     ]
    },
    {
     "name": "stderr",
     "output_type": "stream",
     "text": [
      "\n",
      "[notice] A new release of pip available: 22.3 -> 25.1\n",
      "[notice] To update, run: python.exe -m pip install --upgrade pip\n",
      "WARNING: Skipping xgboost as it is not installed.\n"
     ]
    },
    {
     "name": "stdout",
     "output_type": "stream",
     "text": [
      "Collecting xgboost\n",
      "  Downloading xgboost-3.0.0-py3-none-win_amd64.whl (150.0 MB)\n",
      "     -------------------------------------- 150.0/150.0 MB 1.5 MB/s eta 0:00:00\n",
      "Requirement already satisfied: numpy in c:\\users\\jchurtador\\appdata\\local\\programs\\python\\python311\\lib\\site-packages (from xgboost) (2.2.5)\n",
      "Collecting scipy\n",
      "  Downloading scipy-1.15.2-cp311-cp311-win_amd64.whl (41.2 MB)\n",
      "     ---------------------------------------- 41.2/41.2 MB 2.5 MB/s eta 0:00:00\n",
      "Installing collected packages: scipy, xgboost\n",
      "Successfully installed scipy-1.15.2 xgboost-3.0.0\n"
     ]
    },
    {
     "name": "stderr",
     "output_type": "stream",
     "text": [
      "\n",
      "[notice] A new release of pip available: 22.3 -> 25.1\n",
      "[notice] To update, run: python.exe -m pip install --upgrade pip\n"
     ]
    }
   ],
   "source": [
    "!brew install libomp\n",
    "!pip install seaborn\n",
    "\n",
    "!pip install kagglehub\n",
    "\n",
    "!pip uninstall -y xgboost\n",
    "!pip install xgboost"
   ]
  },
  {
   "cell_type": "markdown",
   "id": "8af77587",
   "metadata": {},
   "source": [
    "¡Instalación de dependencias!\n",
    "\n",
    "Corre solo si no se tienen instaladas."
   ]
  },
  {
   "cell_type": "code",
   "execution_count": 4,
   "id": "ac27d49a",
   "metadata": {},
   "outputs": [
    {
     "name": "stdout",
     "output_type": "stream",
     "text": [
      "Requirement already satisfied: pandas in c:\\users\\jchurtador\\appdata\\local\\programs\\python\\python311\\lib\\site-packages (2.2.3)Note: you may need to restart the kernel to use updated packages.\n"
     ]
    },
    {
     "name": "stderr",
     "output_type": "stream",
     "text": [
      "\n",
      "[notice] A new release of pip available: 22.3 -> 25.1\n",
      "[notice] To update, run: python.exe -m pip install --upgrade pip\n"
     ]
    },
    {
     "name": "stdout",
     "output_type": "stream",
     "text": [
      "\n",
      "Requirement already satisfied: matplotlib in c:\\users\\jchurtador\\appdata\\local\\programs\\python\\python311\\lib\\site-packages (3.10.1)\n",
      "Requirement already satisfied: numpy in c:\\users\\jchurtador\\appdata\\local\\programs\\python\\python311\\lib\\site-packages (2.2.5)\n",
      "Collecting category_encoders\n",
      "  Downloading category_encoders-2.8.1-py3-none-any.whl (85 kB)\n",
      "     -------------------------------------- 85.7/85.7 kB 967.6 kB/s eta 0:00:00\n",
      "Collecting scikit-learn\n",
      "  Downloading scikit_learn-1.6.1-cp311-cp311-win_amd64.whl (11.1 MB)\n",
      "     -------------------------------------- 11.1/11.1 MB 120.4 kB/s eta 0:00:00\n",
      "Requirement already satisfied: python-dateutil>=2.8.2 in c:\\users\\jchurtador\\appdata\\local\\programs\\python\\python311\\lib\\site-packages (from pandas) (2.9.0.post0)\n",
      "Requirement already satisfied: pytz>=2020.1 in c:\\users\\jchurtador\\appdata\\local\\programs\\python\\python311\\lib\\site-packages (from pandas) (2025.2)\n",
      "Requirement already satisfied: tzdata>=2022.7 in c:\\users\\jchurtador\\appdata\\local\\programs\\python\\python311\\lib\\site-packages (from pandas) (2025.2)\n",
      "Requirement already satisfied: contourpy>=1.0.1 in c:\\users\\jchurtador\\appdata\\local\\programs\\python\\python311\\lib\\site-packages (from matplotlib) (1.3.2)\n",
      "Requirement already satisfied: cycler>=0.10 in c:\\users\\jchurtador\\appdata\\local\\programs\\python\\python311\\lib\\site-packages (from matplotlib) (0.12.1)\n",
      "Requirement already satisfied: fonttools>=4.22.0 in c:\\users\\jchurtador\\appdata\\local\\programs\\python\\python311\\lib\\site-packages (from matplotlib) (4.57.0)\n",
      "Requirement already satisfied: kiwisolver>=1.3.1 in c:\\users\\jchurtador\\appdata\\local\\programs\\python\\python311\\lib\\site-packages (from matplotlib) (1.4.8)\n",
      "Requirement already satisfied: packaging>=20.0 in c:\\users\\jchurtador\\appdata\\local\\programs\\python\\python311\\lib\\site-packages (from matplotlib) (24.2)\n",
      "Requirement already satisfied: pillow>=8 in c:\\users\\jchurtador\\appdata\\local\\programs\\python\\python311\\lib\\site-packages (from matplotlib) (11.2.1)\n",
      "Requirement already satisfied: pyparsing>=2.3.1 in c:\\users\\jchurtador\\appdata\\local\\programs\\python\\python311\\lib\\site-packages (from matplotlib) (3.2.3)\n",
      "Collecting patsy>=0.5.1\n",
      "  Downloading patsy-1.0.1-py2.py3-none-any.whl (232 kB)\n",
      "     ------------------------------------ 232.9/232.9 kB 108.8 kB/s eta 0:00:00\n",
      "Requirement already satisfied: scipy>=1.0.0 in c:\\users\\jchurtador\\appdata\\local\\programs\\python\\python311\\lib\\site-packages (from category_encoders) (1.15.2)\n",
      "Collecting statsmodels>=0.9.0\n",
      "  Downloading statsmodels-0.14.4-cp311-cp311-win_amd64.whl (9.9 MB)\n",
      "     ---------------------------------------- 9.9/9.9 MB 141.6 kB/s eta 0:00:00\n",
      "Collecting joblib>=1.2.0\n",
      "  Downloading joblib-1.4.2-py3-none-any.whl (301 kB)\n",
      "     ------------------------------------ 301.8/301.8 kB 160.9 kB/s eta 0:00:00\n",
      "Collecting threadpoolctl>=3.1.0\n",
      "  Downloading threadpoolctl-3.6.0-py3-none-any.whl (18 kB)\n",
      "Requirement already satisfied: six>=1.5 in c:\\users\\jchurtador\\appdata\\local\\programs\\python\\python311\\lib\\site-packages (from python-dateutil>=2.8.2->pandas) (1.17.0)\n",
      "Installing collected packages: threadpoolctl, patsy, joblib, scikit-learn, statsmodels, category_encoders\n",
      "Successfully installed category_encoders-2.8.1 joblib-1.4.2 patsy-1.0.1 scikit-learn-1.6.1 statsmodels-0.14.4 threadpoolctl-3.6.0\n"
     ]
    }
   ],
   "source": [
    "pip install pandas matplotlib numpy category_encoders scikit-learn"
   ]
  },
  {
   "cell_type": "code",
   "execution_count": 2,
   "id": "22b650d1",
   "metadata": {},
   "outputs": [],
   "source": [
    "import os\n",
    "os.environ['KMP_DUPLICATE_LIB_OK'] = 'True'"
   ]
  },
  {
   "cell_type": "code",
   "execution_count": 1,
   "id": "9b32112b",
   "metadata": {},
   "outputs": [],
   "source": [
    "import pandas as pd\n",
    "import matplotlib.pyplot as plt\n",
    "import seaborn as sns\n",
    "import numpy as np\n",
    " \n",
    "from category_encoders import BinaryEncoder\n",
    "from sklearn.pipeline import Pipeline\n",
    "from xgboost import XGBClassifier\n",
    "from sklearn.metrics import accuracy_score\n",
    " \n",
    "from sklearn.preprocessing import StandardScaler\n",
    "from sklearn.model_selection import train_test_split, GridSearchCV\n",
    "from sklearn.linear_model import LogisticRegression\n",
    "from sklearn.ensemble import RandomForestClassifier"
   ]
  },
  {
   "cell_type": "code",
   "execution_count": null,
   "id": "d590f75b",
   "metadata": {},
   "outputs": [],
   "source": [
    "# Data import\n",
    "df = pd.read_csv('diabetes_prediction_dataset.csv')\n",
    "df.head()"
   ]
  },
  {
   "cell_type": "code",
   "execution_count": null,
   "id": "2c90218b",
   "metadata": {},
   "outputs": [],
   "source": [
    "# Descipción de datos\n",
    "df.describe()"
   ]
  },
  {
   "cell_type": "code",
   "execution_count": null,
   "id": "8113c1b0",
   "metadata": {},
   "outputs": [],
   "source": [
    "df.shape"
   ]
  },
  {
   "cell_type": "code",
   "execution_count": null,
   "id": "e3f01376",
   "metadata": {},
   "outputs": [],
   "source": [
    "df.info()"
   ]
  },
  {
   "cell_type": "code",
   "execution_count": null,
   "id": "e9914832",
   "metadata": {},
   "outputs": [],
   "source": [
    "df['gender'].unique()"
   ]
  },
  {
   "cell_type": "code",
   "execution_count": null,
   "id": "44931130",
   "metadata": {},
   "outputs": [],
   "source": [
    "# Count the number of rows where gender is not 'Other'\n",
    "count_without_other = df[df['gender'] != 'Other'].shape[0]\n",
    "print(f\"Number of rows without 'Other' in gender: {count_without_other}\")"
   ]
  },
  {
   "cell_type": "code",
   "execution_count": null,
   "id": "671fa659",
   "metadata": {},
   "outputs": [],
   "source": [
    "# Drop rows where the 'gender' column has the value 'Other'\n",
    "df = df[df['gender'] != 'Other']"
   ]
  },
  {
   "cell_type": "code",
   "execution_count": null,
   "id": "21e38616",
   "metadata": {},
   "outputs": [],
   "source": [
    "# Convertimos genero Hombre, Mujer, a 1, 0\n",
    "df['gender'] = df['gender'].map({'Male': 1, 'Female': 0})"
   ]
  },
  {
   "cell_type": "code",
   "execution_count": null,
   "id": "adb5cbaa",
   "metadata": {},
   "outputs": [],
   "source": [
    "# Validamos si tenemos valore vacíos\n",
    "df.isnull().sum()"
   ]
  },
  {
   "cell_type": "code",
   "execution_count": null,
   "id": "7a5d2d05",
   "metadata": {},
   "outputs": [],
   "source": [
    "df.hist(bins=30, figsize=(15, 12))\n",
    "plt.tight_layout()\n",
    "plt.show()"
   ]
  },
  {
   "cell_type": "code",
   "execution_count": null,
   "id": "6899a5c4",
   "metadata": {},
   "outputs": [],
   "source": [
    "# Ahora vemos el conteo de nuestra variable objetivo: Diabetes\n",
    "\n",
    "df['diabetes'].value_counts().plot(kind='bar', color='skyblue')\n",
    "plt.title('Distribución de Diabetes')\n",
    "plt.xlabel('Diabetes')\n",
    "plt.ylabel('Frecuencia')\n",
    "plt.show()"
   ]
  },
  {
   "cell_type": "code",
   "execution_count": null,
   "id": "1477a6cb",
   "metadata": {},
   "outputs": [],
   "source": [
    "df.duplicated().sum()"
   ]
  },
  {
   "cell_type": "code",
   "execution_count": null,
   "id": "2d741ecc",
   "metadata": {},
   "outputs": [],
   "source": [
    "df = df.drop_duplicates()"
   ]
  },
  {
   "cell_type": "code",
   "execution_count": null,
   "id": "07a9bac7",
   "metadata": {},
   "outputs": [],
   "source": [
    "df.duplicated().sum()"
   ]
  },
  {
   "cell_type": "code",
   "execution_count": null,
   "id": "1514b988",
   "metadata": {},
   "outputs": [],
   "source": [
    "df.shape"
   ]
  },
  {
   "cell_type": "code",
   "execution_count": null,
   "id": "38c4c4a2",
   "metadata": {},
   "outputs": [],
   "source": [
    "df.sample(10)"
   ]
  },
  {
   "cell_type": "code",
   "execution_count": null,
   "id": "ca51292f",
   "metadata": {},
   "outputs": [],
   "source": [
    "unique_values = df['smoking_history'].unique()"
   ]
  },
  {
   "cell_type": "code",
   "execution_count": null,
   "id": "99bdb496",
   "metadata": {},
   "outputs": [],
   "source": [
    "binary_transformer = Pipeline(\n",
    "    steps=[(\"binary_encoder\", BinaryEncoder(cols=['smoking_history']))]\n",
    ")"
   ]
  },
  {
   "cell_type": "code",
   "execution_count": null,
   "id": "fe8f1fa0",
   "metadata": {},
   "outputs": [],
   "source": [
    "df_encoded = binary_transformer.fit_transform(df)"
   ]
  },
  {
   "cell_type": "code",
   "execution_count": null,
   "id": "d0d28ba5",
   "metadata": {},
   "outputs": [],
   "source": [
    "encoded_cols = [col for col in df_encoded.columns if 'smoking_history_' in col]"
   ]
  },
  {
   "cell_type": "code",
   "execution_count": null,
   "id": "4abbb78d",
   "metadata": {},
   "outputs": [],
   "source": [
    "smoking_mapping = {}\n",
    "for i, col in enumerate(encoded_cols):\n",
    "    clean_name = f\"smoking_{unique_values[i].lower().replace(' ', '_')}\"\n",
    "    smoking_mapping[col] = clean_name"
   ]
  },
  {
   "cell_type": "code",
   "execution_count": null,
   "id": "4a351014",
   "metadata": {},
   "outputs": [],
   "source": [
    "df_encoded = df_encoded.rename(columns=smoking_mapping)\n",
    "\n",
    "print(\"\\nSample of data with renamed columns:\")\n",
    "df_encoded.sample(5)"
   ]
  },
  {
   "cell_type": "code",
   "execution_count": null,
   "id": "77b725bb",
   "metadata": {},
   "outputs": [],
   "source": [
    "def cap_outliers(df_encoded, column):\n",
    "    Q1 = df_encoded[column].quantile(0.25)\n",
    "    Q3 = df_encoded[column].quantile(0.75)\n",
    "    IQR = Q3 - Q1\n",
    "    lower_bound = Q1 - 1.5 * IQR\n",
    "    upper_bound = Q3 + 1.5 * IQR\n",
    "    df_encoded[column] = df_encoded[column].clip(lower_bound, upper_bound)\n",
    "    return df_encoded\n",
    "\n",
    "for col in ['age', 'bmi', 'HbA1c_level', 'blood_glucose_level']:\n",
    "    df_encoded = cap_outliers(df_encoded, col)"
   ]
  },
  {
   "cell_type": "code",
   "execution_count": null,
   "id": "04d1628d",
   "metadata": {},
   "outputs": [],
   "source": [
    "scaler = StandardScaler()\n",
    "df_encoded[['age', 'bmi', 'HbA1c_level', 'blood_glucose_level']] = scaler.fit_transform(\n",
    "    df_encoded[['age', 'bmi', 'HbA1c_level', 'blood_glucose_level']]\n",
    ")"
   ]
  },
  {
   "cell_type": "code",
   "execution_count": null,
   "id": "19cecfb2",
   "metadata": {},
   "outputs": [],
   "source": [
    "df_encoded.dtypes"
   ]
  },
  {
   "cell_type": "code",
   "execution_count": null,
   "id": "61113778",
   "metadata": {},
   "outputs": [],
   "source": [
    "print(\"Generating Pair Plot...\")\n",
    "sns.pairplot(df_encoded[['age', 'bmi', 'HbA1c_level', 'blood_glucose_level', 'diabetes']], \n",
    "             hue='diabetes', diag_kind='kde')\n",
    "plt.suptitle('Pair Plot of Numerical Features by Diabetes', y=1.02)\n",
    "plt.show()"
   ]
  },
  {
   "cell_type": "code",
   "execution_count": null,
   "id": "ebcf4d4a",
   "metadata": {},
   "outputs": [],
   "source": [
    "print(\"Generating Box Plots...\")\n",
    "fig, axes = plt.subplots(2, 2, figsize=(12, 8))\n",
    "numerical_cols = ['age', 'bmi', 'HbA1c_level', 'blood_glucose_level']\n",
    "for i, col in enumerate(numerical_cols):\n",
    "    sns.boxplot(x='diabetes', y=col, data=df_encoded, ax=axes[i//2, i%2])\n",
    "    axes[i//2, i%2].set_title(f'{col} vs. Diabetes')\n",
    "plt.tight_layout()\n",
    "plt.show()"
   ]
  },
  {
   "cell_type": "code",
   "execution_count": null,
   "id": "316653ec",
   "metadata": {},
   "outputs": [],
   "source": [
    "print(\"Generating Count Plots...\")\n",
    "categorical_cols = ['gender', 'smoking_never', 'smoking_no_info', 'smoking_current', 'hypertension', 'heart_disease']\n",
    "\n",
    "# First figure with first 4 plots\n",
    "fig1, axes1 = plt.subplots(2, 2, figsize=(12, 8))\n",
    "axes1 = axes1.flatten()  # Flatten for easier indexing\n",
    "\n",
    "for i in range(min(4, len(categorical_cols))):\n",
    "    sns.countplot(x=categorical_cols[i], hue='diabetes', data=df_encoded, ax=axes1[i])\n",
    "    axes1[i].set_title(f'{categorical_cols[i]} vs. Diabetes')\n",
    "\n",
    "plt.tight_layout()\n",
    "plt.show()\n",
    "\n",
    "# Second figure with remaining plots\n",
    "if len(categorical_cols) > 4:\n",
    "    fig2, axes2 = plt.subplots(1, len(categorical_cols)-4, figsize=(12, 4))\n",
    "    if len(categorical_cols) == 5:  # Handle case of just one subplot\n",
    "        axes2 = [axes2]\n",
    "        \n",
    "    for i in range(4, len(categorical_cols)):\n",
    "        sns.countplot(x=categorical_cols[i], hue='diabetes', data=df_encoded, ax=axes2[i-4])\n",
    "        axes2[i-4].set_title(f'{categorical_cols[i]} vs. Diabetes')\n",
    "    \n",
    "    plt.tight_layout()\n",
    "    plt.show()"
   ]
  },
  {
   "cell_type": "code",
   "execution_count": null,
   "id": "07b98953",
   "metadata": {},
   "outputs": [],
   "source": [
    "print(\"Diabetes Class Distribution:\")\n",
    "print(df_encoded['diabetes'].value_counts())"
   ]
  },
  {
   "cell_type": "code",
   "execution_count": null,
   "id": "1305c071",
   "metadata": {},
   "outputs": [],
   "source": [
    "# Ahora vemos la correlación entre los datos\n",
    "\n",
    "num_df = df_encoded.select_dtypes(exclude='object')\n",
    "fig, ax = plt.subplots()\n",
    "sns.heatmap(num_df.corr(), annot=True)\n",
    "plt.title('Correlación numérica de características')\n",
    "plt.show()"
   ]
  },
  {
   "cell_type": "code",
   "execution_count": null,
   "id": "4a4ade99",
   "metadata": {},
   "outputs": [],
   "source": [
    "X = df_encoded.drop('diabetes', axis=1)\n",
    "y = df_encoded['diabetes']\n",
    "X_train, X_test, y_train, y_test = train_test_split(X, y, test_size=0.2, random_state=42)"
   ]
  },
  {
   "cell_type": "code",
   "execution_count": null,
   "id": "b3097caa",
   "metadata": {},
   "outputs": [],
   "source": [
    "models = {\n",
    "    'Logistic Regression': {\n",
    "        'model': LogisticRegression(),\n",
    "        'params': {\n",
    "            'C': [0.1, 1, 10],\n",
    "            'solver': ['liblinear', 'lbfgs']\n",
    "        }\n",
    "    },\n",
    "    'Random Forest': {\n",
    "        'model': RandomForestClassifier(random_state=42),\n",
    "        'params': {\n",
    "            'n_estimators': [50, 100],\n",
    "            'max_depth': [None, 10, 20]\n",
    "        }\n",
    "    },\n",
    "    'XGBoost': {\n",
    "        'model': XGBClassifier(random_state=42, eval_metric='logloss'),\n",
    "        'params': {\n",
    "            'n_estimators': [50, 100],\n",
    "            'max_depth': [3, 6],\n",
    "            'learning_rate': [0.01, 0.1]\n",
    "        }\n",
    "    }\n",
    "}"
   ]
  },
  {
   "cell_type": "code",
   "execution_count": null,
   "id": "9a183474",
   "metadata": {},
   "outputs": [],
   "source": [
    "results = []\n",
    "hyperparameters = {}\n",
    "\n",
    "for name, config in models.items():\n",
    "    print(f\"\\nTraining {name}...\")\n",
    "    grid = GridSearchCV(config['model'], config['params'], cv=5, scoring='accuracy', n_jobs=-1)\n",
    "    grid.fit(X_train, y_train)\n",
    "    best_model = grid.best_estimator_\n",
    "    y_pred = best_model.predict(X_test)\n",
    "    accuracy = accuracy_score(y_test, y_pred)\n",
    "    \n",
    "    results.append({'Model': name, 'Accuracy': accuracy})\n",
    "    hyperparameters[name] = grid.best_params_\n",
    "    \n",
    "    print(f\"Best Parameters for {name}: {grid.best_params_}\")\n",
    "    print(f\"Test Accuracy: {accuracy:.3f}\")"
   ]
  },
  {
   "cell_type": "code",
   "execution_count": null,
   "id": "c1cd4418",
   "metadata": {},
   "outputs": [],
   "source": [
    "# prompt: number of values equals to 1 in the column diabetes\n",
    "count_diabetes_1 = df[df['diabetes'] == 1]['diabetes'].count()\n",
    "print(f\"Number of values equal to 1 in the 'diabetes' column: {count_diabetes_1}\")\n"
   ]
  },
  {
   "cell_type": "code",
   "execution_count": null,
   "id": "70ce2c4a",
   "metadata": {},
   "outputs": [],
   "source": [
    "# Relacion entre variable dependiente y la glucosa en sangre como independiente\n",
    "\n",
    "plt.figure(figsize=(8, 5))\n",
    "sns.kdeplot(df[df['diabetes'] == 0]['blood_glucose_level'], label='No Diabetes', fill=True)\n",
    "sns.kdeplot(df[df['diabetes'] == 1]['blood_glucose_level'], label='Diabetes', fill=True)\n",
    "plt.title('Distribución de Glucosa en Sangre')\n",
    "plt.xlabel('Nivel de Glucosa')\n",
    "plt.ylabel('Densidad')\n",
    "plt.legend()\n",
    "plt.show()"
   ]
  },
  {
   "cell_type": "code",
   "execution_count": null,
   "id": "6a317fe2",
   "metadata": {},
   "outputs": [],
   "source": [
    "# Relacion entre variable dependiente e índice de masa corporal como independiente\n",
    "\n",
    "plt.figure(figsize=(8, 5))\n",
    "sns.kdeplot(df[df['diabetes'] == 0]['bmi'], label='No Diabetes', fill=True)\n",
    "sns.kdeplot(df[df['diabetes'] == 1]['bmi'], label='Diabetes', fill=True)\n",
    "plt.title('Distribución de IMC según Diagnóstico de Diabetes')\n",
    "plt.xlabel('IMC')\n",
    "plt.ylabel('Densidad')\n",
    "plt.legend()\n",
    "plt.show()"
   ]
  },
  {
   "cell_type": "code",
   "execution_count": null,
   "id": "474a5a29",
   "metadata": {},
   "outputs": [],
   "source": [
    "fig, axs = plt.subplots(2, 1, figsize=(10, 10))  # 2 filas, 1 columna\n",
    "\n",
    "# --- Gráfico 1: Distribución de Glucosa en Sangre ---\n",
    "sns.kdeplot(\n",
    "    data=df[df['diabetes'] == 0]['blood_glucose_level'],\n",
    "    label='No Diabetes',\n",
    "    fill=True,\n",
    "    ax=axs[0]\n",
    ")\n",
    "sns.kdeplot(\n",
    "    data=df[df['diabetes'] == 1]['blood_glucose_level'],\n",
    "    label='Diabetes',\n",
    "    fill=True,\n",
    "    ax=axs[0]\n",
    ")\n",
    "axs[0].set_title('Distribución de Glucosa en Sangre')\n",
    "axs[0].set_xlabel('Nivel de Glucosa')\n",
    "axs[0].set_ylabel('Densidad')\n",
    "axs[0].legend()\n",
    "\n",
    "# --- Gráfico 2: Distribución de IMC ---\n",
    "sns.kdeplot(\n",
    "    data=df[df['diabetes'] == 0]['bmi'],\n",
    "    label='No Diabetes',\n",
    "    fill=True,\n",
    "    ax=axs[1]\n",
    ")\n",
    "sns.kdeplot(\n",
    "    data=df[df['diabetes'] == 1]['bmi'],\n",
    "    label='Diabetes',\n",
    "    fill=True,\n",
    "    ax=axs[1]\n",
    ")\n",
    "axs[1].set_title('Distribución de IMC según Diagnóstico de Diabetes')\n",
    "axs[1].set_xlabel('IMC')\n",
    "axs[1].set_ylabel('Densidad')\n",
    "axs[1].legend()\n",
    "\n",
    "# Ajustar espacios\n",
    "plt.tight_layout()\n",
    "plt.show()"
   ]
  }
 ],
 "metadata": {
  "kernelspec": {
   "display_name": "Python 3",
   "language": "python",
   "name": "python3"
  },
  "language_info": {
   "codemirror_mode": {
    "name": "ipython",
    "version": 3
   },
   "file_extension": ".py",
   "mimetype": "text/x-python",
   "name": "python",
   "nbconvert_exporter": "python",
   "pygments_lexer": "ipython3",
   "version": "3.11.0"
  }
 },
 "nbformat": 4,
 "nbformat_minor": 5
}
